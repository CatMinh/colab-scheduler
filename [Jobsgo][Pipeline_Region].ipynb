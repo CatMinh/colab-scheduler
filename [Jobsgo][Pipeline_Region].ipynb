{
  "nbformat": 4,
  "nbformat_minor": 0,
  "metadata": {
    "colab": {
      "provenance": []
    },
    "kernelspec": {
      "name": "python3",
      "display_name": "Python 3"
    },
    "language_info": {
      "name": "python"
    }
  },
  "cells": [
    {
      "cell_type": "code",
      "execution_count": 12,
      "metadata": {
        "colab": {
          "base_uri": "https://localhost:8080/"
        },
        "id": "iuq2inQDfOEV",
        "outputId": "ecb6966f-e25d-40b2-aca0-5c11b3f03477"
      },
      "outputs": [
        {
          "output_type": "stream",
          "name": "stdout",
          "text": [
            "Requirement already satisfied: gspread in /usr/local/lib/python3.12/dist-packages (6.2.1)\n",
            "Requirement already satisfied: pandas in /usr/local/lib/python3.12/dist-packages (2.2.2)\n",
            "Requirement already satisfied: oauth2client in /usr/local/lib/python3.12/dist-packages (4.1.3)\n",
            "Requirement already satisfied: google-auth>=1.12.0 in /usr/local/lib/python3.12/dist-packages (from gspread) (2.38.0)\n",
            "Requirement already satisfied: google-auth-oauthlib>=0.4.1 in /usr/local/lib/python3.12/dist-packages (from gspread) (1.2.2)\n",
            "Requirement already satisfied: numpy>=1.26.0 in /usr/local/lib/python3.12/dist-packages (from pandas) (2.0.2)\n",
            "Requirement already satisfied: python-dateutil>=2.8.2 in /usr/local/lib/python3.12/dist-packages (from pandas) (2.9.0.post0)\n",
            "Requirement already satisfied: pytz>=2020.1 in /usr/local/lib/python3.12/dist-packages (from pandas) (2025.2)\n",
            "Requirement already satisfied: tzdata>=2022.7 in /usr/local/lib/python3.12/dist-packages (from pandas) (2025.2)\n",
            "Requirement already satisfied: httplib2>=0.9.1 in /usr/local/lib/python3.12/dist-packages (from oauth2client) (0.22.0)\n",
            "Requirement already satisfied: pyasn1>=0.1.7 in /usr/local/lib/python3.12/dist-packages (from oauth2client) (0.6.1)\n",
            "Requirement already satisfied: pyasn1-modules>=0.0.5 in /usr/local/lib/python3.12/dist-packages (from oauth2client) (0.4.2)\n",
            "Requirement already satisfied: rsa>=3.1.4 in /usr/local/lib/python3.12/dist-packages (from oauth2client) (4.9.1)\n",
            "Requirement already satisfied: six>=1.6.1 in /usr/local/lib/python3.12/dist-packages (from oauth2client) (1.17.0)\n",
            "Requirement already satisfied: cachetools<6.0,>=2.0.0 in /usr/local/lib/python3.12/dist-packages (from google-auth>=1.12.0->gspread) (5.5.2)\n",
            "Requirement already satisfied: requests-oauthlib>=0.7.0 in /usr/local/lib/python3.12/dist-packages (from google-auth-oauthlib>=0.4.1->gspread) (2.0.0)\n",
            "Requirement already satisfied: pyparsing!=3.0.0,!=3.0.1,!=3.0.2,!=3.0.3,<4,>=2.4.2 in /usr/local/lib/python3.12/dist-packages (from httplib2>=0.9.1->oauth2client) (3.2.3)\n",
            "Requirement already satisfied: oauthlib>=3.0.0 in /usr/local/lib/python3.12/dist-packages (from requests-oauthlib>=0.7.0->google-auth-oauthlib>=0.4.1->gspread) (3.3.1)\n",
            "Requirement already satisfied: requests>=2.0.0 in /usr/local/lib/python3.12/dist-packages (from requests-oauthlib>=0.7.0->google-auth-oauthlib>=0.4.1->gspread) (2.32.4)\n",
            "Requirement already satisfied: charset_normalizer<4,>=2 in /usr/local/lib/python3.12/dist-packages (from requests>=2.0.0->requests-oauthlib>=0.7.0->google-auth-oauthlib>=0.4.1->gspread) (3.4.3)\n",
            "Requirement already satisfied: idna<4,>=2.5 in /usr/local/lib/python3.12/dist-packages (from requests>=2.0.0->requests-oauthlib>=0.7.0->google-auth-oauthlib>=0.4.1->gspread) (3.10)\n",
            "Requirement already satisfied: urllib3<3,>=1.21.1 in /usr/local/lib/python3.12/dist-packages (from requests>=2.0.0->requests-oauthlib>=0.7.0->google-auth-oauthlib>=0.4.1->gspread) (2.5.0)\n",
            "Requirement already satisfied: certifi>=2017.4.17 in /usr/local/lib/python3.12/dist-packages (from requests>=2.0.0->requests-oauthlib>=0.7.0->google-auth-oauthlib>=0.4.1->gspread) (2025.8.3)\n"
          ]
        }
      ],
      "source": [
        "!pip install gspread pandas oauth2client"
      ]
    },
    {
      "cell_type": "code",
      "source": [
        "import os\n",
        "import json\n",
        "import gspread\n",
        "import pandas as pd\n",
        "from oauth2client.service_account import ServiceAccountCredentials\n",
        "\n",
        "# Ưu tiên lấy từ biến môi trường\n",
        "if \"SERVICE_ACCOUNT_JSON\" in os.environ:\n",
        "    service_account_info = json.loads(os.environ[\"SERVICE_ACCOUNT_JSON\"])\n",
        "else:\n",
        "    # Fallback: đọc từ file service_account.json (bạn phải upload lên Colab hoặc để sẵn trong project)\n",
        "    with open(\"service_account.json\") as f:\n",
        "        service_account_info = json.load(f)\n",
        "\n",
        "# Authenticate Google Sheets API\n",
        "scope = [\n",
        "    \"https://spreadsheets.google.com/feeds\",\n",
        "    \"https://www.googleapis.com/auth/drive\"\n",
        "]\n",
        "creds = ServiceAccountCredentials.from_json_keyfile_dict(service_account_info, scope)\n",
        "client = gspread.authorize(creds)\n",
        "\n",
        "# Mở Google Sheet\n",
        "spreadsheet = client.open_by_url(\n",
        "    \"https://docs.google.com/spreadsheets/d/1RNrJ5B3pzLGNmxir2EguHH55vGUNHAOzaOV6Ng6_fVI/edit?gid=843162208#gid=843162208\"\n",
        ")\n",
        "sheet = spreadsheet.worksheet(\"Jobs 2025\")\n",
        "data = sheet.get_all_records()\n",
        "\n",
        "# Convert to DataFrame\n",
        "df = pd.DataFrame(data)\n",
        "print(df.head())\n"
      ],
      "metadata": {
        "id": "joK5IViy5e__",
        "colab": {
          "base_uri": "https://localhost:8080/"
        },
        "outputId": "a1e1c919-5c1a-4623-c25d-aebf21408d78"
      },
      "execution_count": 13,
      "outputs": [
        {
          "output_type": "stream",
          "name": "stdout",
          "text": [
            "   0       Id                                      Title  \\\n",
            "0  1   454474                           Thợ Hàn Mig, Tig   \n",
            "1  2  1060402              Thiết Kế Kiến Trúc - Nội Thất   \n",
            "2  3  1128390  Nhân Viên Kỹ Thuật - Cơ Điện - Tại Quận 5   \n",
            "3  4  1267000                        Nhân Viên Marketing   \n",
            "4  5  1305600   Nhân Viên Xử Lý Khiếu Nại - Dự Án Shopee   \n",
            "\n",
            "                         Company                 Category       Places  \\\n",
            "0  VU TRINH CNC GROUP CO., LTD\\n  Cơ Khí/Ô Tô/Tự Động Hóa  Hồ Chí Minh   \n",
            "1                 Kiến Trúc Yama       Kiến Trúc/Nội Thất  Hồ Chí Minh   \n",
            "2               TPV TECH CO.,LTD        Khoa Học/Kỹ Thuật  Hồ Chí Minh   \n",
            "3                    greendragon      Kinh Doanh/Bán Hàng  Hồ Chí Minh   \n",
            "4  VIET MY - SSU COMPANY LIMITED      Chăm Sóc Khách Hàng  Hồ Chí Minh   \n",
            "\n",
            "    Districts  Difficulty                 Sale     Package  ...  Views  \\\n",
            "0  Bình Chánh         1.0  Võ Thị Hồng Trâm    Standard  ...    175   \n",
            "1                     1.0      Trịnh Thị Tuyến  Platinum15  ...      4   \n",
            "2                     1.0         Lê Ngọc Trâm    Standard  ...     66   \n",
            "3  Bình Thạnh         1.0  Nguyễn Thị Minh Thư    Standard  ...    109   \n",
            "4    Tân Bình         1.0  Nguyễn Thị Minh Thư    Standard  ...      1   \n",
            "\n",
            "   CS Submitted  FB CVs  Status  Order ID  Order Type Combo     Cost  \\\n",
            "0             0       0     red    469374  Platinum15              0   \n",
            "1             0       0     red    518342   Diamond15              0   \n",
            "2             0       0     red    492859    Standard        1100000   \n",
            "3             2       0  orange    525675      Ruby15              0   \n",
            "4             0       0     red    488989     Diamond              0   \n",
            "\n",
            "        Start                                   Business Sectors  \n",
            "0  2025-02-13  Cơ khí/Kĩ thuật ứng dụng, Sản xuất/Vận hành sả...  \n",
            "1  2025-08-26                                 Kiến trúc/Nội thất  \n",
            "2  2025-05-13                                         Kinh doanh  \n",
            "3  2025-08-13                        Giao thông vận tải/Thủy lợi  \n",
            "4  2025-06-18                                         Kinh doanh  \n",
            "\n",
            "[5 rows x 23 columns]\n"
          ]
        }
      ]
    },
    {
      "cell_type": "code",
      "source": [
        "# import gspread\n",
        "# import pandas as pd\n",
        "# from oauth2client.service_account import ServiceAccountCredentials\n",
        "# import json\n",
        "# from google.colab import userdata\n",
        "\n",
        "# # Get the service account key from Colab Secrets\n",
        "# service_account_info = json.loads(userdata.get('SERVICE_ACCOUNT_JSON'))\n",
        "\n",
        "# # Authenticate Google Sheets API\n",
        "# scope = [\"https://spreadsheets.google.com/feeds\", \"https://www.googleapis.com/auth/drive\"]\n",
        "# creds = ServiceAccountCredentials.from_json_keyfile_dict(service_account_info, scope)\n",
        "# client = gspread.authorize(creds)\n",
        "\n",
        "# # Open Google Sheet\n",
        "# # Replace \"Tên_Google_Sheet\" with your Google Sheet name\n",
        "# # Replace \"Tên_Sheet\" with your sheet name\n",
        "# spreadsheet = client.open_by_url(\"https://docs.google.com/spreadsheets/d/1RNrJ5B3pzLGNmxir2EguHH55vGUNHAOzaOV6Ng6_fVI/edit?gid=843162208#gid=843162208\")\n",
        "# sheet = spreadsheet.worksheet(\"Jobs 2025\")\n",
        "# data = sheet.get_all_records()\n",
        "# # Convert to DataFrame\n",
        "# df = pd.DataFrame(data)"
      ],
      "metadata": {
        "id": "3ocVVOGIfVP4",
        "collapsed": true
      },
      "execution_count": 14,
      "outputs": []
    },
    {
      "cell_type": "code",
      "source": [
        "def assign_region(places_str):\n",
        "    if pd.isna(places_str):\n",
        "        return 'Không rõ'\n",
        "\n",
        "    places = [p.strip() for p in places_str.split(',') if p.strip()]\n",
        "\n",
        "    # Từ khoá miền\n",
        "    north_keywords = ['Hà Nội', 'Hải Phòng', 'Quảng Ninh', 'Bắc Ninh', 'Hưng Yên', 'Hải Dương',\n",
        "                      'Thái Nguyên', 'Vĩnh Phúc', 'Phú Thọ', 'Bắc Giang', 'Thái Bình', 'Nam Định',\n",
        "                      'Hà Nam', 'Ninh Bình', 'Hòa Bình', 'Sơn La', 'Lai Châu', 'Điện Biên',\n",
        "                      'Lào Cai', 'Yên Bái', 'Tuyên Quang', 'Cao Bằng', 'Bắc Kạn', 'Lạng Sơn',\n",
        "                      'Quảng Trị', 'Thừa Thiên Huế']\n",
        "\n",
        "    central_keywords = ['Đà Nẵng', 'Quảng Nam', 'Quảng Ngãi', 'Bình Định', 'Phú Yên',\n",
        "                        'Khánh Hòa', 'Ninh Thuận', 'Bình Thuận', 'Thanh Hóa', 'Nghệ An',\n",
        "                        'Hà Tĩnh', 'Quảng Bình', 'Gia Lai', 'Kon Tum', 'Đắk Lắk',\n",
        "                        'Đắk Nông', 'Lâm Đồng']\n",
        "\n",
        "    south_keywords = ['Hồ Chí Minh', 'Sài Gòn', 'TP.HCM', 'Bình Dương', 'Đồng Nai', 'Bà Rịa - Vũng Tàu',\n",
        "                      'Tây Ninh', 'Bình Phước']\n",
        "\n",
        "    south_west_keywords = ['Long An', 'Tiền Giang', 'Bến Tre', 'Trà Vinh', 'Vĩnh Long',\n",
        "                           'Đồng Tháp', 'An Giang', 'Kiên Giang', 'Cần Thơ', 'Hậu Giang',\n",
        "                           'Sóc Trăng', 'Bạc Liêu', 'Cà Mau']\n",
        "\n",
        "    regions = []\n",
        "\n",
        "    for place in places:\n",
        "        found = False\n",
        "\n",
        "        for keyword in north_keywords:\n",
        "            if keyword.lower() in place.lower():\n",
        "                regions.append('Miền Bắc')\n",
        "                found = True\n",
        "                break\n",
        "        if found: continue\n",
        "\n",
        "        for keyword in central_keywords:\n",
        "            if keyword.lower() in place.lower():\n",
        "                regions.append('Miền Trung')\n",
        "                found = True\n",
        "                break\n",
        "        if found: continue\n",
        "\n",
        "        for keyword in south_west_keywords:\n",
        "            if keyword.lower() in place.lower():\n",
        "                regions.append('Miền Tây')\n",
        "                found = True\n",
        "                break\n",
        "        if found: continue\n",
        "\n",
        "        for keyword in south_keywords:\n",
        "            if keyword.lower() in place.lower():\n",
        "                regions.append('Miền Nam')\n",
        "                found = True\n",
        "                break\n",
        "        # ⚠️ Không còn append 'Không rõ' ở đây\n",
        "\n",
        "    # Loại trùng & loại 'Không rõ' nếu có sót\n",
        "    unique_regions = list(set(regions))\n",
        "\n",
        "    if len(places) == 1:\n",
        "        return places[0]\n",
        "    elif len(unique_regions) == 0:\n",
        "        return 'Không rõ'\n",
        "    elif len(unique_regions) == 1:\n",
        "        return unique_regions[0]\n",
        "    elif len(unique_regions) == 2:\n",
        "        return ', '.join(sorted(unique_regions))\n",
        "    elif len(unique_regions) >= 3:\n",
        "        return 'Toàn quốc'\n",
        "    else:\n",
        "        return 'Không rõ'\n",
        "df['Region'] = df['Places'].apply(assign_region)"
      ],
      "metadata": {
        "id": "kJuWxC2-fdSg"
      },
      "execution_count": 15,
      "outputs": []
    },
    {
      "cell_type": "code",
      "source": [
        "# Xuất DataFrame df sang Google Sheets\n",
        "spreadsheet = client.open_by_url(\"https://docs.google.com/spreadsheets/d/1E5EkOL7EJWQloDixisDQBN0mlVMBu4WC3MBgp4ze6cc/edit?gid=612484126#gid=612484126\")\n",
        "worksheet = spreadsheet.worksheet(\"Jobs 2025\")      # tab đầu tiên\n",
        "worksheet.clear()                                # xoá dữ liệu cũ\n",
        "worksheet.update([df.columns.values.tolist()] + df.values.tolist())\n",
        "\n",
        "print(\"✅ Đã ghi dữ liệu thành công lên Google Sheets!\")\n"
      ],
      "metadata": {
        "colab": {
          "base_uri": "https://localhost:8080/"
        },
        "id": "6gmySetSftZ7",
        "outputId": "537aab2d-ddae-4ada-ccf5-a0088dd4fbef"
      },
      "execution_count": 16,
      "outputs": [
        {
          "output_type": "stream",
          "name": "stdout",
          "text": [
            "✅ Đã ghi dữ liệu thành công lên Google Sheets!\n"
          ]
        }
      ]
    },
    {
      "cell_type": "code",
      "source": [],
      "metadata": {
        "id": "FFhcE_Vyf3o-"
      },
      "execution_count": 16,
      "outputs": []
    }
  ]
}